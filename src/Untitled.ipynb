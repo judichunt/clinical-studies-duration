{
 "cells": [
  {
   "cell_type": "code",
   "execution_count": null,
   "id": "83b4fa11",
   "metadata": {},
   "outputs": [],
   "source": [
    "import numpy as np\n",
    "import pandas as pd\n",
    "import lightgbm as lgb\n",
    "\n",
    "import matplotlib.pyplot as plt"
   ]
  },
  {
   "cell_type": "code",
   "execution_count": null,
   "id": "6a50e74f",
   "metadata": {},
   "outputs": [],
   "source": [
    "all = pd.read_csv('../data/Lymphoma-P1.csv')"
   ]
  },
  {
   "cell_type": "code",
   "execution_count": null,
   "id": "340f73b1",
   "metadata": {},
   "outputs": [],
   "source": [
    "all.head(10)"
   ]
  },
  {
   "cell_type": "code",
   "execution_count": null,
   "id": "aaf2d72a",
   "metadata": {},
   "outputs": [],
   "source": [
    "for col_name in ['Start Date', 'Primary Completion Date', 'Completion Date', 'First Posted', 'Last Update Posted']:\n",
    "    all[col_name] = all[col_name].apply(lambda x: pd.to_datetime(x))\n",
    "all['Completion Time'] = all['Completion Date'] - all['Start Date']"
   ]
  },
  {
   "cell_type": "code",
   "execution_count": null,
   "id": "4c285e22",
   "metadata": {},
   "outputs": [],
   "source": [
    "all.head(10)"
   ]
  },
  {
   "cell_type": "code",
   "execution_count": null,
   "id": "c167b59a",
   "metadata": {},
   "outputs": [],
   "source": [
    "#all['Completion Time'].dt.days.astype(int)\n",
    "# Remove invalid rows\n",
    "invalid_row_ids = []\n",
    "for i, val in enumerate(all['Completion Time']):\n",
    "    if type(val) != pd._libs.tslibs.timedeltas.Timedelta:\n",
    "        invalid_row_ids.append(i)\n",
    "\n",
    "all = all.drop(invalid_row_ids)\n",
    "all = all.drop(['Start Date', 'Primary Completion Date', 'Completion Date', 'First Posted', 'Last Update Posted'], axis=1)\n",
    "\n",
    "for i, val in enumerate(all['Completion Time']):\n",
    "    if type(val) != pd._libs.tslibs.timedeltas.Timedelta:\n",
    "        print((i, val))\n",
    "all['Completion Time'] = all['Completion Time'].dt.days.astype(int)\n"
   ]
  },
  {
   "cell_type": "code",
   "execution_count": null,
   "id": "a88443f2",
   "metadata": {},
   "outputs": [],
   "source": [
    "all.head(10)"
   ]
  },
  {
   "cell_type": "code",
   "execution_count": null,
   "id": "2b7090c9",
   "metadata": {
    "scrolled": true
   },
   "outputs": [],
   "source": [
    "# Transfor string to class\n",
    "class_mapping = {}\n",
    "#col_names = ['Study Results']\n",
    "#for col_name in col_names:\n",
    "#    all[col_name].value_counts().head(10).index.tolist()\n",
    "measure_count = {}\n",
    "invalid_row_ids = []\n",
    "for i, measures in enumerate(all['Outcome Measures']):\n",
    "    if type(measures) != str:\n",
    "        invalid_row_ids.append(i)\n",
    "        continue\n",
    "    for measure in measures.split('|'):\n",
    "        measure = measure.strip()\n",
    "        measure = measure.lower()\n",
    "        #for key in measure_count.keys():\n",
    "        #    if measure[:10] == key[:10]:\n",
    "        #        measure_count[key] += 1\n",
    "        #        break\n",
    "        if measure not in measure_count:\n",
    "            measure_count[measure] = 1\n",
    "        else:\n",
    "            measure_count[measure] += 1\n",
    "print(sorted(measure_count.items(), key=lambda x: x[1], reverse=True)[:10])\n",
    "all = all.drop(invalid_row_ids)"
   ]
  },
  {
   "cell_type": "code",
   "execution_count": null,
   "id": "5bd5f237",
   "metadata": {},
   "outputs": [],
   "source": [
    "from sklearn.model_selection import train_test_split\n",
    "X_train, X_test, y_train, y_test = train_test_split(all.drop(['Completion Time'],axis=1), all['Completion Time'], \n",
    "                                                    test_size=0.33, random_state=42,)"
   ]
  },
  {
   "cell_type": "code",
   "execution_count": null,
   "id": "49d084f4",
   "metadata": {},
   "outputs": [],
   "source": [
    "X_train.head(2)\n",
    "X_test.head(2)\n",
    "y_train.head(2)\n",
    "y_test.head(2)"
   ]
  },
  {
   "cell_type": "code",
   "execution_count": null,
   "id": "670a1192",
   "metadata": {},
   "outputs": [],
   "source": [
    "y_test"
   ]
  },
  {
   "cell_type": "code",
   "execution_count": null,
   "id": "9d5fb587",
   "metadata": {},
   "outputs": [],
   "source": [
    "gbm = lgb.LGBMRegressor(n_estimators=200,)\n",
    "gbm.fit(X_train, y_train,\n",
    "        eval_set=[(X_test, y_test)],\n",
    "        eval_metric='l2')"
   ]
  },
  {
   "cell_type": "code",
   "execution_count": null,
   "id": "fedfb07e",
   "metadata": {},
   "outputs": [],
   "source": []
  }
 ],
 "metadata": {
  "kernelspec": {
   "display_name": "Python 3 (ipykernel)",
   "language": "python",
   "name": "python3"
  },
  "language_info": {
   "codemirror_mode": {
    "name": "ipython",
    "version": 3
   },
   "file_extension": ".py",
   "mimetype": "text/x-python",
   "name": "python",
   "nbconvert_exporter": "python",
   "pygments_lexer": "ipython3",
   "version": "3.10.0"
  }
 },
 "nbformat": 4,
 "nbformat_minor": 5
}
